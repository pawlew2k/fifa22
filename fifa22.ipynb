{
 "cells": [
  {
   "cell_type": "markdown",
   "id": "3ef924e8-b6e7-4e70-aeab-d0c163e99949",
   "metadata": {},
   "source": [
    "source: https://sofifa.com/"
   ]
  },
  {
   "cell_type": "markdown",
   "id": "7e41d2fb-90f9-4cf9-8c80-d98b5c3f4933",
   "metadata": {},
   "source": [
    "# Importy"
   ]
  },
  {
   "cell_type": "code",
   "execution_count": null,
   "id": "2433c7a0-b2d7-406a-8787-2530e34df0ee",
   "metadata": {
    "tags": []
   },
   "outputs": [],
   "source": [
    "import matplotlib.pyplot as plt\n",
    "import numpy as np\n",
    "import pandas as pd\n",
    "from pandas.core.frame import DataFrame\n",
    "import re\n",
    "import math\n",
    "\n",
    "from sklearn.tree import DecisionTreeClassifier\n",
    "from sklearn.tree import plot_tree\n",
    "from sklearn.metrics import confusion_matrix\n",
    "from sklearn.metrics import ConfusionMatrixDisplay\n",
    "from sklearn.metrics import classification_report\n",
    "from sklearn import datasets, linear_model"
   ]
  },
  {
   "cell_type": "markdown",
   "id": "bc295608-eae1-4191-baa5-79302747e621",
   "metadata": {
    "tags": []
   },
   "source": [
    "# Wczytywanie danych i pre-processing"
   ]
  },
  {
   "cell_type": "markdown",
   "id": "2eddb3db-cdf0-41a5-a9ca-ea02cbb30754",
   "metadata": {
    "tags": []
   },
   "source": [
    "## Czyszczenie danych"
   ]
  },
  {
   "cell_type": "code",
   "execution_count": null,
   "id": "878acb94-90e7-4bdb-ab57-9b1c75a1e71a",
   "metadata": {
    "tags": []
   },
   "outputs": [],
   "source": [
    "df = pd.read_csv('Fifa2022-Males.csv', low_memory=False)\n",
    "df.info()"
   ]
  },
  {
   "cell_type": "code",
   "execution_count": null,
   "id": "521f80cc-9dbb-4c61-b028-b889438ab222",
   "metadata": {
    "tags": []
   },
   "outputs": [],
   "source": [
    "df.columns.tolist()"
   ]
  },
  {
   "cell_type": "code",
   "execution_count": null,
   "id": "684c4365-ca33-4e10-843e-ec3cdac91a8a",
   "metadata": {
    "tags": []
   },
   "outputs": [],
   "source": [
    "main_position = []\n",
    "\n",
    "position_info = {\n",
    "    \"RF\":\"Forward\",\n",
    "    \"CF\":\"Forward\",\n",
    "    \"LF\":\"Forward\",\n",
    "    \"RS\":\"Forward\",\n",
    "    \"ST\":\"Forward\",\n",
    "    \"LS\":\"Forward\",\n",
    "    \"LW\":\"Forward\",\n",
    "    \"RW\":\"Forward\",\n",
    "    \"RDM\":\"Middle\",\n",
    "    \"RCDM\":\"Middle\",\n",
    "    \"CDM\":\"Middle\",\n",
    "    \"LCDM\":\"Middle\",\n",
    "    \"LDM\":\"Middle\",\n",
    "    \"RWM\":\"Middle\",\n",
    "    \"RM\":\"Middle\",\n",
    "    \"RCM\":\"Middle\",\n",
    "    \"CM\":\"Middle\",\n",
    "    \"LCM\":\"Middle\",\n",
    "    \"LM\":\"Middle\",\n",
    "    \"LWM\":\"Middle\",\n",
    "    \"RAM\":\"Middle\",\n",
    "    \"RCAM\":\"Middle\",\n",
    "    \"CAM\":\"Middle\",\n",
    "    \"LCAM\":\"Middle\",\n",
    "    \"LAM\":\"Middle\",\n",
    "    \"SW\":\"Back\",\n",
    "    \"RWB\":\"Back\",\n",
    "    \"RB\":\"Back\",\n",
    "    \"RCB\":\"Back\",\n",
    "    \"CB\":\"Back\",\n",
    "    \"LCB\":\"Back\",\n",
    "    \"LB\":\"Back\",\n",
    "    \"LWB\":\"Back\",\n",
    "    \"GK\":\"Goalkeeper\"\n",
    "}\n",
    "\n",
    "for i in range(len(df)):\n",
    "    if(df['club_position'][i] in position_info):\n",
    "        main_position.append(position_info.get(df['club_position'][i]))\n",
    "    elif (df['nation_position'][i] in position_info):\n",
    "        main_position.append(position_info.get(df['nation_position'][i]))\n",
    "    else:\n",
    "        position_list = df['player_positions'][i].replace(\" \", \"\").split(\",\")\n",
    "        temp = []\n",
    "        for j in range(len(position_list)):\n",
    "            temp.append(position_info.get(position_list[j]))\n",
    "        main_position.append(max(set(temp), key = temp.count))\n",
    "df['player_position'] = main_position\n",
    "df['player_position'].unique()"
   ]
  },
  {
   "cell_type": "code",
   "execution_count": null,
   "id": "aabec78e-dd6d-4562-ae75-9217304178e0",
   "metadata": {
    "tags": []
   },
   "outputs": [],
   "source": [
    "df = df.drop(columns=[\n",
    "    'sofifa_id',\n",
    "    'long_name',\n",
    "    'dob',  # date of birth\n",
    "    'club_team_id',\n",
    "    'club_position',\n",
    "    'club_jersey_number',\n",
    "    'club_loaned_from',\n",
    "    'club_joined',\n",
    "    'club_contract_valid_until',\n",
    "    'nationality_id',\n",
    "    'nation_team_id',\n",
    "    'nation_position',\n",
    "    'nation_jersey_number',\n",
    "    'work_rate',\n",
    "    'body_type',\n",
    "    'real_face',\n",
    "    'player_tags',\n",
    "    'player_traits',\n",
    "    'preferred_foot',\n",
    "]);"
   ]
  },
  {
   "cell_type": "code",
   "execution_count": null,
   "id": "2ad166fd-c3ce-42cb-8a68-7bc1d132b9d6",
   "metadata": {
    "tags": []
   },
   "outputs": [],
   "source": [
    "def nan_columns(df: DataFrame, head: int = 10):  # columns with quantities of NA descending\n",
    "    print(df.isna().sum().sort_values(ascending=False).head(head))"
   ]
  },
  {
   "cell_type": "code",
   "execution_count": null,
   "id": "b6324e90-5255-485b-b316-5f43cce04486",
   "metadata": {
    "tags": []
   },
   "outputs": [],
   "source": [
    "nan_columns(df, head=18)"
   ]
  },
  {
   "cell_type": "code",
   "execution_count": null,
   "id": "8df171f9-8019-4028-b2e1-5c464d68456a",
   "metadata": {
    "tags": []
   },
   "outputs": [],
   "source": [
    "df = df.dropna(subset=['value_eur'])  # no data about value\n",
    "df = df.drop(columns=['pace', 'defending', 'dribbling', 'passing', 'shooting', 'physic',\n",
    "                      'goalkeeping_speed'])  # incompatible data (from 2 different versions, complementary nan's)])  \n",
    "df['release_clause_eur'] = df['release_clause_eur'].fillna(0)  # probably no release clause\n",
    "df['lw'] = df['lw'].fillna(df['lf'])  # position lw is closest to lf\n",
    "df['rw'] = df['rw'].fillna(df['rf'])  # position rw is closest to rf\n",
    "\n",
    "# TODO zmapować 'players_positions' do 'players_position' (jednej z czterech)"
   ]
  },
  {
   "cell_type": "code",
   "execution_count": null,
   "id": "5307da97-3f79-464b-bade-361de3f4b9e5",
   "metadata": {
    "tags": []
   },
   "outputs": [],
   "source": [
    "nan_columns(df, head=3)"
   ]
  },
  {
   "cell_type": "code",
   "execution_count": null,
   "id": "97130a3e-88d4-44f1-a20c-734b79d0f9bd",
   "metadata": {
    "tags": []
   },
   "outputs": [],
   "source": [
    "df = df.drop(columns=[ # usunięcie kolumn które znaczoąco wpływają na ocenę klasyfikatora\n",
    "    'wage_eur',\n",
    "    'release_clause_eur',\n",
    "    'overall',\n",
    "    'potential',\n",
    "]);"
   ]
  },
  {
   "cell_type": "code",
   "execution_count": null,
   "id": "601432e0-4843-4d7f-bad6-a7e883cea657",
   "metadata": {
    "tags": []
   },
   "outputs": [],
   "source": [
    "cols_dict = {\n",
    "    'descriptive': ['short_name',\n",
    "                    'player_positions',\n",
    "                    'player_position',  # przetworzone pozycje (1 z 4)\n",
    "                    'club_name',\n",
    "                    'league_name',\n",
    "                    'nationality_name',\n",
    "                    ],\n",
    "   #'score': ['overall',\n",
    "   #          'potential'],\n",
    "    'attacking': ['attacking_crossing',\n",
    "                  'attacking_finishing',\n",
    "                  'attacking_heading_accuracy',\n",
    "                  'attacking_short_passing',\n",
    "                  'attacking_volleys'],\n",
    "    'skill': ['skill_dribbling',\n",
    "              'skill_curve',\n",
    "              'skill_fk_accuracy',\n",
    "              'skill_long_passing',\n",
    "              'skill_ball_control'],\n",
    "    'movement': ['movement_acceleration',\n",
    "                 'movement_sprint_speed',\n",
    "                 'movement_agility',\n",
    "                 'movement_reactions',\n",
    "                 'movement_balance'],\n",
    "    'power': ['power_shot_power',\n",
    "              'power_jumping',\n",
    "              'power_stamina',\n",
    "              'power_strength',\n",
    "              'power_long_shots'],\n",
    "    'mentality': ['mentality_aggression',\n",
    "                  'mentality_interceptions',\n",
    "                  'mentality_positioning',\n",
    "                  'mentality_vision',\n",
    "                  'mentality_penalties',\n",
    "                  'mentality_composure'],\n",
    "    'defending': ['defending_marking_awareness',\n",
    "                  'defending_standing_tackle',\n",
    "                  'defending_sliding_tackle'],\n",
    "    'goalkeeping': ['goalkeeping_diving',\n",
    "                    'goalkeeping_handling',\n",
    "                    'goalkeeping_kicking',\n",
    "                    'goalkeeping_positioning',\n",
    "                    'goalkeeping_reflexes'],\n",
    "    'position': [      'ls' ,'st' ,'rs',\n",
    "                 'lw' ,'lf' ,'cf' ,'rf', 'rw',\n",
    "                       'lam','cam','ram',\n",
    "                 'lm' ,'lcm','cm' ,'rcm', 'rm',  # arrangement of positions\n",
    "                 'lwb','ldm','cdm','rdm','rwb',\n",
    "                 'lb', 'lcb','cb' ,'rcb', 'rb',\n",
    "                             'gk']\n",
    "}\n",
    "cols_dict['features'] = [cols_dict[feature] for feature in cols_dict.keys()]\n",
    "cols_dict['features'] = sum(cols_dict['features'], [])  # flaten list of lists\n",
    "cols_dict['all'] = df.columns.to_list()\n",
    "columns = cols_dict['all']\n",
    "cols_dict['others'] = list(set(cols_dict['all']) - set(cols_dict['features']))\n",
    "cols_dict['others'].sort()\n",
    "cols_dict['others']"
   ]
  },
  {
   "cell_type": "code",
   "execution_count": null,
   "id": "fe0c6ef0-fefb-439e-9995-27f47620245a",
   "metadata": {
    "tags": []
   },
   "outputs": [],
   "source": [
    "df[cols_dict['position']] = df[cols_dict['position']].applymap(\n",
    "    lambda datum: sum([int(x) for x in re.split(r'[+-]', datum)]) if isinstance(datum, str) \n",
    "    else int(datum))  # including +- for 'international_reputation'"
   ]
  },
  {
   "cell_type": "code",
   "execution_count": null,
   "id": "f6670308-c72c-4962-b0fc-151de6220a64",
   "metadata": {
    "tags": []
   },
   "outputs": [],
   "source": [
    "df.info()"
   ]
  },
  {
   "cell_type": "markdown",
   "id": "9ca6f55a-cd92-49fd-963f-676aaf78f489",
   "metadata": {
    "tags": []
   },
   "source": [
    "## Wizualizacja wyczyszczonych danych"
   ]
  },
  {
   "cell_type": "code",
   "execution_count": null,
   "id": "0fe5e2aa-d446-4235-af60-244ca57afd65",
   "metadata": {
    "tags": []
   },
   "outputs": [],
   "source": [
    "df[cols_dict['descriptive']].describe()[1:]"
   ]
  },
  {
   "cell_type": "code",
   "execution_count": null,
   "id": "7c45d1d1-3d26-47a7-ab54-4f40556b60ef",
   "metadata": {
    "tags": []
   },
   "outputs": [],
   "source": [
    "df[cols_dict['others']].describe()[1:]"
   ]
  },
  {
   "cell_type": "code",
   "execution_count": null,
   "id": "4f2d166c-7a7a-42c4-bf51-f0c1b1e91040",
   "metadata": {
    "tags": []
   },
   "outputs": [],
   "source": [
    "def show_boxplot(df: DataFrame, columns: str):\n",
    "    if columns in cols_dict.keys():\n",
    "        labels = cols_dict[columns]\n",
    "        labels = [label.removeprefix(columns + '_') for label in labels]\n",
    "    else:\n",
    "        labels = None\n",
    "    \n",
    "    leftmargin = 0.5\n",
    "    rightmargin = 0.3\n",
    "    categorysize = 0.1\n",
    "\n",
    "    n = df.shape[1]\n",
    "\n",
    "    figwidth = leftmargin + rightmargin + (n+1)*categorysize\n",
    "\n",
    "    fig, ax = plt.subplots(figsize=(figwidth, 6))\n",
    "    fig.subplots_adjust(left=leftmargin/figwidth, right=1-rightmargin/figwidth,\n",
    "                        top=0.94, bottom=0.1)\n",
    "    ax.boxplot(df[cols_dict[columns]], labels=labels)\n",
    "    plt.title(columns)\n",
    "    plt.show()"
   ]
  },
  {
   "cell_type": "code",
   "execution_count": null,
   "id": "d10fdce5-c079-40a8-9da2-dc36117b3390",
   "metadata": {
    "tags": []
   },
   "outputs": [],
   "source": [
    "print(cols_dict.keys())\n",
    "for key in cols_dict.keys():\n",
    "    if key not in ['descriptive', 'features', 'all', 'others']:\n",
    "        show_boxplot(df, key)"
   ]
  },
  {
   "cell_type": "markdown",
   "id": "c388f3ae-8e20-4027-ba48-6d94b4efae94",
   "metadata": {
    "tags": []
   },
   "source": [
    "# Standaryzacja"
   ]
  },
  {
   "cell_type": "code",
   "execution_count": null,
   "id": "caf7adc1-9e4f-4b77-a544-4608b362cc49",
   "metadata": {},
   "outputs": [],
   "source": [
    "from sklearn.preprocessing import StandardScaler"
   ]
  },
  {
   "cell_type": "code",
   "execution_count": null,
   "id": "4bcbd872-a61d-43d5-aec7-77dc1a3b815b",
   "metadata": {},
   "outputs": [],
   "source": [
    "df_stand = df.copy()\n",
    "\n",
    "df_stand =  df_stand.drop(columns = cols_dict['descriptive'])\n",
    "\n",
    "df_stand.info()"
   ]
  },
  {
   "cell_type": "code",
   "execution_count": null,
   "id": "677227fb-11b2-4324-a200-2709fc802398",
   "metadata": {},
   "outputs": [],
   "source": [
    "scaler = StandardScaler()\n",
    "data_1 = df_stand.iloc[:,:]\n",
    "data_stand = scaler.fit_transform(data_1)\n",
    "data_stand"
   ]
  },
  {
   "cell_type": "markdown",
   "id": "b36b68a0-1a10-4450-8b86-947de6481fe7",
   "metadata": {
    "jp-MarkdownHeadingCollapsed": true,
    "tags": []
   },
   "source": [
    "# Wyznaczanie składowych głównych"
   ]
  },
  {
   "cell_type": "code",
   "execution_count": null,
   "id": "fc6d2f94-0622-49eb-8d08-4eb246b8295c",
   "metadata": {},
   "outputs": [],
   "source": [
    "from sklearn.decomposition import PCA"
   ]
  },
  {
   "cell_type": "code",
   "execution_count": null,
   "id": "45db17ef-41f0-4ffb-9a7c-808b9454f99a",
   "metadata": {},
   "outputs": [],
   "source": [
    "index_pca = [\n",
    " #'overall',\n",
    " #'potential',\n",
    " 'value_eur',\n",
    " #'wage_eur',\n",
    " 'age',\n",
    " 'height_cm',\n",
    " 'weight_kg',\n",
    " 'league_level',\n",
    " 'weak_foot',\n",
    " 'skill_moves',\n",
    " 'international_reputation', \n",
    " #'release_clause_eur',\n",
    " 'attacking_crossing',\n",
    " 'attacking_finishing',\n",
    " 'attacking_heading_accuracy',\n",
    " 'attacking_short_passing',\n",
    " 'attacking_volleys',\n",
    " 'skill_dribbling',\n",
    " 'skill_curve',\n",
    " 'skill_fk_accuracy',\n",
    " 'skill_long_passing',\n",
    " 'skill_ball_control',\n",
    " 'movement_acceleration',\n",
    " 'movement_sprint_speed',\n",
    " 'movement_agility',\n",
    " 'movement_reactions',\n",
    " 'movement_balance',\n",
    " 'power_shot_power',\n",
    " 'power_jumping',\n",
    " 'power_stamina',\n",
    " 'power_strength',\n",
    " 'power_long_shots',\n",
    " 'mentality_aggression',\n",
    " 'mentality_interceptions',\n",
    " 'mentality_positioning',\n",
    " 'mentality_vision',\n",
    " 'mentality_penalties',\n",
    " 'mentality_composure',\n",
    " 'defending_marking_awareness',\n",
    " 'defending_standing_tackle',\n",
    " 'defending_sliding_tackle',  \n",
    " 'goalkeeping_diving',\n",
    " 'goalkeeping_handling', \n",
    " 'goalkeeping_kicking',\n",
    " 'goalkeeping_positioning',\n",
    " 'goalkeeping_reflexes',\n",
    " 'ls',\n",
    " 'st',\n",
    " 'rs',\n",
    " 'lw',\n",
    " 'lf',\n",
    " 'cf',\n",
    " 'rf',\n",
    " 'rw',\n",
    " 'lam',\n",
    " 'cam',\n",
    " 'ram',\n",
    " 'lm',\n",
    " 'lcm',\n",
    " 'cm',\n",
    " 'rcm', \n",
    " 'rm',\n",
    " 'lwb',\n",
    " 'ldm',\n",
    " 'cdm',\n",
    " 'rdm' ,\n",
    " 'rwb', \n",
    " 'lb',\n",
    " 'lcb', \n",
    " 'cb',\n",
    " 'rcb',\n",
    " 'rb',\n",
    " 'gk'\n",
    "]"
   ]
  },
  {
   "cell_type": "code",
   "execution_count": null,
   "id": "ac26d337-9331-4011-b67e-5c1e3baefe8c",
   "metadata": {},
   "outputs": [],
   "source": [
    "pca = PCA()\n",
    "pca_data = pca.fit_transform(data_stand)\n",
    "n_components = len(pca.components_)\n",
    "pca_cols = [f'PC{x+1}' for x in range(n_components)]\n",
    "df_pca_componenets = pd.DataFrame(data=np.transpose(pca.components_), columns=pca_cols, index = index_pca)\n",
    "df_pca_componenets.abs().sort_values(by='PC1',ascending=False).iloc[:7,:]"
   ]
  },
  {
   "cell_type": "code",
   "execution_count": null,
   "id": "0224390c-9c9e-4c1c-98ce-6199bf5b707c",
   "metadata": {},
   "outputs": [],
   "source": [
    "df_pca_componenets.abs().sort_values(by='PC2',ascending=False).iloc[:7,:]"
   ]
  },
  {
   "cell_type": "code",
   "execution_count": null,
   "id": "c27a739c-0838-4fed-be25-d2a27069bea3",
   "metadata": {},
   "outputs": [],
   "source": [
    "df_pca_componenets.abs().sort_values(by='PC3',ascending=False).iloc[:7,:]"
   ]
  },
  {
   "cell_type": "code",
   "execution_count": null,
   "id": "29af16fa-2a87-4c8c-aa0e-d6015999783d",
   "metadata": {},
   "outputs": [],
   "source": [
    "df_pca_componenets.abs().sort_values(by='PC4',ascending=False).iloc[:7,:]"
   ]
  },
  {
   "cell_type": "markdown",
   "id": "8fb0a316-71ea-43cb-8aa2-b82fb6034856",
   "metadata": {
    "jp-MarkdownHeadingCollapsed": true,
    "tags": []
   },
   "source": [
    "# Kryterium wartości własnej"
   ]
  },
  {
   "cell_type": "code",
   "execution_count": null,
   "id": "16fe0638-8744-49cd-9eeb-6b3e7479179a",
   "metadata": {},
   "outputs": [],
   "source": [
    "print(pca_cols[:10])\n",
    "print(pca.explained_variance_[:10])"
   ]
  },
  {
   "cell_type": "markdown",
   "id": "77e5c0ae-fe61-4356-9b0c-2c44c587bc99",
   "metadata": {
    "jp-MarkdownHeadingCollapsed": true,
    "tags": []
   },
   "source": [
    "# Kryterium częsci wyjaśnionej wariancji"
   ]
  },
  {
   "cell_type": "code",
   "execution_count": null,
   "id": "51187a1e-e8e2-4b50-96d5-4c95cc28cabf",
   "metadata": {},
   "outputs": [],
   "source": [
    "print(pca_cols[:10])\n",
    "print(np.cumsum(pca.explained_variance_ratio_)[:10])"
   ]
  },
  {
   "cell_type": "markdown",
   "id": "f87be6d4-7e94-4bf0-b3a0-8691c673cf17",
   "metadata": {
    "jp-MarkdownHeadingCollapsed": true,
    "tags": []
   },
   "source": [
    "# Kryterium minimalnego zasobu zmienności"
   ]
  },
  {
   "cell_type": "code",
   "execution_count": null,
   "id": "e965fa39-a08a-49c2-b01d-5e21e1eb8d3b",
   "metadata": {},
   "outputs": [],
   "source": [
    "pd.set_option('display.max_rows', None) # wyświetlanie wszyskich wierszów\n",
    "pd.set_option('display.max_columns', None) # wyświetlanie wszyskich kolumn\n",
    "pcaS = df_pca_componenets.pow(2).cumsum(axis=1)\n",
    "pcaS"
   ]
  },
  {
   "cell_type": "markdown",
   "id": "99134a05-2de0-4b74-b33e-69d439943b58",
   "metadata": {
    "jp-MarkdownHeadingCollapsed": true,
    "tags": []
   },
   "source": [
    "# Analiza czynnikowa"
   ]
  },
  {
   "cell_type": "code",
   "execution_count": null,
   "id": "b60b9f99-b4e8-4b8e-bb92-0534c95eac6a",
   "metadata": {},
   "outputs": [],
   "source": [
    "from factor_analyzer import FactorAnalyzer\n",
    "from sklearn.decomposition import FactorAnalysis\n",
    "from factor_analyzer.factor_analyzer import calculate_bartlett_sphericity\n",
    "from factor_analyzer.factor_analyzer import calculate_kmo"
   ]
  },
  {
   "cell_type": "markdown",
   "id": "172ea496-0d7b-44db-aa76-dd84d0d3623b",
   "metadata": {
    "jp-MarkdownHeadingCollapsed": true,
    "tags": []
   },
   "source": [
    "# Wyliczenie współczynników FA"
   ]
  },
  {
   "cell_type": "code",
   "execution_count": null,
   "id": "190271d6-9805-41d5-930c-3893df834e21",
   "metadata": {
    "scrolled": true
   },
   "outputs": [],
   "source": [
    "fa = FactorAnalysis(random_state=1)\n",
    "data_transformed = fa.fit_transform(data_stand)\n",
    "n_components = len(fa.components_)\n",
    "fa_cols = [f'F{x+1}' for x in range(n_components)]\n",
    "df_fa_componenets = pd.DataFrame(data=np.transpose(fa.components_), columns=fa_cols, index = index_pca)\n",
    "df_fa_componenets"
   ]
  },
  {
   "cell_type": "markdown",
   "id": "8d4dbaf4-f3b9-472d-9186-07c933045eb0",
   "metadata": {
    "jp-MarkdownHeadingCollapsed": true,
    "tags": []
   },
   "source": [
    "# Rotacja varimax"
   ]
  },
  {
   "cell_type": "code",
   "execution_count": null,
   "id": "008374d9-aebf-44cc-be89-5bea43136c61",
   "metadata": {},
   "outputs": [],
   "source": [
    "fav = FactorAnalysis(random_state=1, rotation = 'varimax')\n",
    "data_transformed = fav.fit_transform(data_stand)\n",
    "n_components = len(fav.components_)\n",
    "fav_cols = [f'F{x+1}' for x in range(n_components)]\n",
    "df_fav_componenets = pd.DataFrame(data=np.transpose(fav.components_), columns=fav_cols, index = index_pca)\n",
    "df_fav_componenets"
   ]
  },
  {
   "cell_type": "markdown",
   "id": "eea7d6b3-dfed-487c-87a2-2d62ce0c9a59",
   "metadata": {
    "tags": []
   },
   "source": [
    "# Klasyfikacja"
   ]
  },
  {
   "cell_type": "markdown",
   "id": "e462efb3-33ba-419e-ab86-4ebece3f3737",
   "metadata": {
    "tags": []
   },
   "source": [
    "## Drzewa decyzyjne"
   ]
  },
  {
   "cell_type": "code",
   "execution_count": null,
   "id": "d0bf4be5-869a-49b3-9a61-e9f68c70e820",
   "metadata": {},
   "outputs": [],
   "source": [
    "positions = np.array(['Goalkeeper', 'Back', 'Middle', 'Forward'])\n",
    "features = list(set(cols_dict['all']) - set(cols_dict['descriptive']))\n",
    "X_train = df[features]\n",
    "y_train = df['player_position']\n",
    "\n",
    "clf = DecisionTreeClassifier(\n",
    "    random_state = 42,\n",
    "    max_depth = 3,\n",
    "    criterion = 'gini'\n",
    ")\n",
    "clf = clf.fit(X_train, y_train)\n",
    "y_pred = clf.predict(X_train)\n",
    "\n",
    "cr = classification_report(\n",
    "    y_train,\n",
    "    y_pred,\n",
    "    target_names=clf.classes_,\n",
    "    zero_division=0\n",
    ")\n",
    "print(cr)\n",
    "\n",
    "cm = confusion_matrix(\n",
    "    y_train,\n",
    "    y_pred,\n",
    "    labels=positions\n",
    ")\n",
    "\n",
    "disp = ConfusionMatrixDisplay(\n",
    "    confusion_matrix=cm,\n",
    "    display_labels=positions\n",
    ")\n",
    "disp.plot();\n",
    "\n",
    "plt.figure(figsize=(80, 60))\n",
    "plot_tree(\n",
    "    clf,\n",
    "    filled = True,\n",
    "    rounded = True,\n",
    "    label = 'all',\n",
    "    class_names = list(positions)\n",
    ");"
   ]
  },
  {
   "cell_type": "markdown",
   "id": "f6320276-827f-456b-a485-4a3395a373a1",
   "metadata": {},
   "source": [
    "Bramkarze zostają bez problemu odseparowani od reszty jeszcze w pierwszym rozgałęzieniu.\n",
    "\n",
    "Obrońcy z napastnikami również są prawie idealnie rozróżniani.\n",
    "\n",
    "Pomiędzy pozycjami obrońca-pomocnik oraz pomocnik-napastnik nie ma ścisłej granicy."
   ]
  },
  {
   "cell_type": "code",
   "execution_count": null,
   "id": "a7c76764-4275-402a-9ebf-a111908e55be",
   "metadata": {},
   "outputs": [],
   "source": [
    "y = df['value_eur'].to_numpy()\n",
    "y = y.reshape(y.size, 1)\n",
    "features = list(set(cols_dict['all']) - set(cols_dict['descriptive']))\n",
    "x = df[features]\n",
    "regr = linear_model.LinearRegression()\n",
    "iter_1 = 0\n",
    "iter_2 = 0\n",
    "iter_3 = 0\n",
    "num_of_plots = len(x.columns)\n",
    "num_of_rows = math.ceil(num_of_plots/5)\n",
    "min_max_values = np.ndarray((num_of_plots, 2))\n",
    "figure, axis = plt.subplots(num_of_rows, 5, figsize=(50, 50))\n",
    "for column in x:\n",
    "    x_ = x[column].values\n",
    "    x_ = x_.reshape(x_.size, 1)\n",
    "    regr.fit(x_,y)\n",
    "    axis[iter_1, iter_2].plot(x_, regr.predict(x_), linewidth=3) \n",
    "    axis[iter_1, iter_2].set_title(column)\n",
    "\n",
    "    min_max_values[iter_3, 0] = min(regr.predict(x_))\n",
    "    min_max_values[iter_3, 1] = min(regr.predict(x_))\n",
    "\n",
    "    iter_3 = iter_3 + 1\n",
    "    iter_2 = iter_2 + 1\n",
    "    if iter_2 > 4:\n",
    "        iter_1 = iter_1 + 1\n",
    "        iter_2 = 0\n",
    "        \n",
    "min_max_values\n"
   ]
  },
  {
   "cell_type": "code",
   "execution_count": null,
   "id": "3ad18efb-d15f-4bae-bede-d5fbb80e1c56",
   "metadata": {},
   "outputs": [],
   "source": []
  }
 ],
 "metadata": {
  "kernelspec": {
   "display_name": "fifa22",
   "language": "python",
   "name": "fifa22"
  },
  "language_info": {
   "codemirror_mode": {
    "name": "ipython",
    "version": 3
   },
   "file_extension": ".py",
   "mimetype": "text/x-python",
   "name": "python",
   "nbconvert_exporter": "python",
   "pygments_lexer": "ipython3",
   "version": "3.11.5"
  }
 },
 "nbformat": 4,
 "nbformat_minor": 5
}
